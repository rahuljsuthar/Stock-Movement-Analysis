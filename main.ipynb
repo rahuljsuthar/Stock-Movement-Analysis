{
 "cells": [
  {
   "cell_type": "markdown",
   "id": "06d96567-e744-483d-ba3c-5820cf76825a",
   "metadata": {},
   "source": [
    "# **Step 1: Scrape Data Using PRAW**"
   ]
  },
  {
   "cell_type": "code",
   "execution_count": 1,
   "id": "bd462100-703c-42ba-a02d-32e6b0370393",
   "metadata": {},
   "outputs": [
    {
     "name": "stdout",
     "output_type": "stream",
     "text": [
      "Data saved to reddit_stocks.csv\n"
     ]
    }
   ],
   "source": [
    "import praw\n",
    "import pandas as pd\n",
    "from datetime import datetime\n",
    "\n",
    "# Reddit API credentials\n",
    "from dotenv import load_dotenv\n",
    "import os\n",
    "\n",
    "# Load environment variables from .env file\n",
    "load_dotenv()\n",
    "\n",
    "reddit = praw.Reddit(\n",
    "    client_id=os.getenv(\"REDDIT_CLIENT_ID\"),\n",
    "    client_secret=os.getenv(\"REDDIT_CLIENT_SECRET\"),\n",
    "    user_agent=os.getenv(\"REDDIT_USER_AGENT\")\n",
    ")\n",
    "\n",
    "\n",
    "# Function to scrape subreddit data\n",
    "def scrape_reddit(subreddit_name, post_limit=5000, time_filter=\"week\"):\n",
    "    try:\n",
    "        subreddit = reddit.subreddit(subreddit_name)\n",
    "        posts = []\n",
    "        for post in subreddit.top(time_filter=time_filter, limit=post_limit):\n",
    "            posts.append({\n",
    "                \"title\": post.title,\n",
    "                \"body\": post.selftext,\n",
    "                \"score\": post.score,\n",
    "                \"comments_count\": post.num_comments,\n",
    "                \"created_at\": datetime.fromtimestamp(post.created_utc),\n",
    "            })\n",
    "        return pd.DataFrame(posts)\n",
    "    except Exception as e:\n",
    "        print(f\"Error while scraping: {e}\")\n",
    "        return pd.DataFrame()\n",
    "\n",
    "# Scrape data from r/stocks subreddit\n",
    "subreddit_data = scrape_reddit(\"stocks\", post_limit=1000, time_filter=\"week\")\n",
    "\n",
    "# Save to CSV\n",
    "subreddit_data.to_csv(\"reddit_stocks.csv\", index=False)\n",
    "print(\"Data saved to reddit_stocks.csv\")\n"
   ]
  },
  {
   "cell_type": "markdown",
   "id": "15f02abb-409a-4ba6-b1f9-acc52d9ff661",
   "metadata": {},
   "source": [
    "# **Step 2: Preprocess the Data(Clean)**"
   ]
  },
  {
   "cell_type": "code",
   "execution_count": 2,
   "id": "ec42e05d-d267-4b03-9e28-1273d6ce63fd",
   "metadata": {},
   "outputs": [
    {
     "name": "stdout",
     "output_type": "stream",
     "text": [
      "Cleaned data saved to reddit_stocks_cleaned.csv\n"
     ]
    },
    {
     "name": "stderr",
     "output_type": "stream",
     "text": [
      "[nltk_data] Downloading package stopwords to\n",
      "[nltk_data]     C:\\Users\\rahul\\AppData\\Roaming\\nltk_data...\n",
      "[nltk_data]   Package stopwords is already up-to-date!\n",
      "[nltk_data] Downloading package punkt_tab to\n",
      "[nltk_data]     C:\\Users\\rahul\\AppData\\Roaming\\nltk_data...\n",
      "[nltk_data]   Package punkt_tab is already up-to-date!\n"
     ]
    }
   ],
   "source": [
    "import re\n",
    "import nltk\n",
    "from nltk.corpus import stopwords\n",
    "from nltk.tokenize import word_tokenize\n",
    "# Download stopwords (if not already done)\n",
    "import nltk\n",
    "nltk.download(\"stopwords\")\n",
    "nltk.download(\"punkt_tab\")\n",
    "\n",
    "stop_words = set(stopwords.words(\"english\"))\n",
    "\n",
    "# Text cleaning function\n",
    "def clean_text(text):\n",
    "    text = re.sub(r\"http\\S+|www\\S+|https\\S+\", \"\", text)  # Remove URLs\n",
    "    text = re.sub(r\"[^\\w\\s]\", \"\", text)  # Remove punctuation\n",
    "    text = text.lower()  # Convert to lowercase\n",
    "    tokens = word_tokenize(text)  # Tokenize\n",
    "    tokens = [word for word in tokens if word not in stop_words]  # Remove stopwords\n",
    "    return \" \".join(tokens)\n",
    "\n",
    "# Apply cleaning to the title and body\n",
    "subreddit_data[\"cleaned_title\"] = subreddit_data[\"title\"].apply(clean_text)\n",
    "subreddit_data[\"cleaned_body\"] = subreddit_data[\"body\"].apply(clean_text)\n",
    "\n",
    "# Save cleaned data\n",
    "subreddit_data.to_csv(\"reddit_stocks_cleaned.csv\", index=False)\n",
    "print(\"Cleaned data saved to reddit_stocks_cleaned.csv\")\n"
   ]
  },
  {
   "cell_type": "markdown",
   "id": "13517385-ea66-44d5-9eb1-1154ff5dba10",
   "metadata": {},
   "source": [
    "# **Step 3: Perform Sentiment Analysis**"
   ]
  },
  {
   "cell_type": "code",
   "execution_count": 3,
   "id": "aa226ff3-cbe0-41db-a79a-4ab5d33695d2",
   "metadata": {},
   "outputs": [
    {
     "name": "stderr",
     "output_type": "stream",
     "text": [
      "[nltk_data] Downloading package vader_lexicon to\n",
      "[nltk_data]     C:\\Users\\rahul\\AppData\\Roaming\\nltk_data...\n",
      "[nltk_data]   Package vader_lexicon is already up-to-date!\n"
     ]
    },
    {
     "name": "stdout",
     "output_type": "stream",
     "text": [
      "Sentiment scores saved to reddit_stocks_sentiment.csv\n"
     ]
    }
   ],
   "source": [
    "from nltk.sentiment.vader import SentimentIntensityAnalyzer as SIA\n",
    "\n",
    "# Initialize sentiment analyzer\n",
    "nltk.download(\"vader_lexicon\")\n",
    "analyzer = SIA()\n",
    "\n",
    "# Function to calculate sentiment score\n",
    "def get_sentiment(text):\n",
    "    if not text:\n",
    "        return 0\n",
    "    sentiment = analyzer.polarity_scores(text)\n",
    "    return sentiment[\"compound\"]\n",
    "\n",
    "# Apply sentiment analysis\n",
    "subreddit_data[\"title_sentiment\"] = subreddit_data[\"cleaned_title\"].apply(get_sentiment)\n",
    "subreddit_data[\"body_sentiment\"] = subreddit_data[\"cleaned_body\"].apply(get_sentiment)\n",
    "\n",
    "# Save data with sentiment scores\n",
    "subreddit_data.to_csv(\"reddit_stocks_sentiment.csv\", index=False)\n",
    "print(\"Sentiment scores saved to reddit_stocks_sentiment.csv\")\n"
   ]
  },
  {
   "cell_type": "markdown",
   "id": "2c392fb2-0180-4ab3-b114-71ab600245ac",
   "metadata": {},
   "source": [
    "# **Step 4: Feature Engineering**\n",
    "# (sentiment score, post scores and frequency of stock symbol)"
   ]
  },
  {
   "cell_type": "code",
   "execution_count": 4,
   "id": "882a2a24-2209-4d4b-ad29-a6397dc3f2db",
   "metadata": {},
   "outputs": [
    {
     "name": "stdout",
     "output_type": "stream",
     "text": [
      "Features saved to reddit_stocks_features.csv\n"
     ]
    }
   ],
   "source": [
    "def extract_stock_mentions(text):\n",
    "    if not text:\n",
    "        return []\n",
    "    return re.findall(r\"\\$[A-Za-z]+\", text)\n",
    "\n",
    "# Extract stock mentions\n",
    "subreddit_data[\"stock_mentions\"] = subreddit_data[\"cleaned_title\"].apply(extract_stock_mentions)\n",
    "\n",
    "# Save data with features\n",
    "subreddit_data.to_csv(\"reddit_stocks_features.csv\", index=False)\n",
    "print(\"Features saved to reddit_stocks_features.csv\")\n"
   ]
  },
  {
   "cell_type": "markdown",
   "id": "a7a04198-d336-444e-959d-3ccfdc3377e0",
   "metadata": {},
   "source": [
    "# **Step 5: Import Historical stock price data**"
   ]
  },
  {
   "cell_type": "code",
   "execution_count": 5,
   "id": "2b117bed-cea2-466d-8c26-3cdfec988c28",
   "metadata": {},
   "outputs": [
    {
     "name": "stderr",
     "output_type": "stream",
     "text": [
      "[*********************100%***********************]  1 of 1 completed"
     ]
    },
    {
     "name": "stdout",
     "output_type": "stream",
     "text": [
      "Stock data saved to historical_stock_prices.csv\n"
     ]
    },
    {
     "name": "stderr",
     "output_type": "stream",
     "text": [
      "\n"
     ]
    }
   ],
   "source": [
    "import yfinance as yf\n",
    "\n",
    "# Fetch historical stock prices for a target stock\n",
    "stock_data = yf.download(\"AAPL\", start=\"2024-07-01\", end=\"2024-12-01\")\n",
    "\n",
    "# Save stock price data\n",
    "stock_data.to_csv(\"historical_stock_prices.csv\")\n",
    "print(\"Stock data saved to historical_stock_prices.csv\")\n"
   ]
  },
  {
   "cell_type": "markdown",
   "id": "57075a33-bd00-437a-9d54-cce4be682a82",
   "metadata": {},
   "source": [
    "# **Step 6: Prepare data for Training**"
   ]
  },
  {
   "cell_type": "code",
   "execution_count": 7,
   "id": "4fc5c22b-840d-4b62-8518-f2e75435e927",
   "metadata": {},
   "outputs": [
    {
     "name": "stdout",
     "output_type": "stream",
     "text": [
      "Date\n",
      "2024-07-01    0\n",
      "2024-07-02    1\n",
      "2024-07-03    1\n",
      "2024-07-05    1\n",
      "2024-07-08    1\n",
      "             ..\n",
      "2024-11-22    1\n",
      "2024-11-25    1\n",
      "2024-11-26    1\n",
      "2024-11-27    0\n",
      "2024-11-29    1\n",
      "Name: label, Length: 107, dtype: int64\n"
     ]
    }
   ],
   "source": [
    "# Create labels based on stock price movements\n",
    "stock_data[\"price_change\"] = stock_data[\"Close\"].pct_change()\n",
    "stock_data[\"label\"] = (stock_data[\"price_change\"] > 0).astype(int)  # 1 if price went up, 0 if down\n",
    "\n",
    "# Merge stock data with Reddit data (make sure dates align)\n",
    "# Note: You'll need to adjust for date alignment (e.g., using datetime or resampling).\n",
    "print(stock_data['label'])"
   ]
  },
  {
   "cell_type": "markdown",
   "id": "2252d319-34da-4d71-9734-59b2a1b0b458",
   "metadata": {},
   "source": [
    "# **Step 7.1:Train Machine Learning Model**\n",
    "# (using linear Regression)"
   ]
  },
  {
   "cell_type": "code",
   "execution_count": 32,
   "id": "1c49cdcd-0fd2-4947-ab87-4ae5417d6389",
   "metadata": {},
   "outputs": [
    {
     "name": "stdout",
     "output_type": "stream",
     "text": [
      "Logistic Regression Accuracy: 0.55\n",
      "Classification Report:\n",
      "               precision    recall  f1-score   support\n",
      "\n",
      "           0       0.50      0.22      0.31         9\n",
      "           1       0.56      0.82      0.67        11\n",
      "\n",
      "    accuracy                           0.55        20\n",
      "   macro avg       0.53      0.52      0.49        20\n",
      "weighted avg       0.53      0.55      0.51        20\n",
      "\n"
     ]
    }
   ],
   "source": [
    "from sklearn.linear_model import LogisticRegression\n",
    "from sklearn.metrics import accuracy_score, classification_report\n",
    "\n",
    "# Train Logistic Regression\n",
    "lr_model = LogisticRegression()\n",
    "lr_model.fit(X_train, y_train)\n",
    "\n",
    "# Test Logistic Regression\n",
    "y_pred_lr = lr_model.predict(X_test)\n",
    "print(\"Logistic Regression Accuracy:\", accuracy_score(y_test, y_pred_lr))\n",
    "print(\"Classification Report:\\n\", classification_report(y_test, y_pred_lr))\n"
   ]
  },
  {
   "cell_type": "markdown",
   "id": "facb4f36-f877-41eb-b07d-1f18f68c6b92",
   "metadata": {},
   "source": [
    "# **Step 7.1:Train Machine Learning Model**\n",
    "# (using Random Forest Classifier)"
   ]
  },
  {
   "cell_type": "code",
   "execution_count": 33,
   "id": "7c404a8c-e52f-46df-aa37-28afe8c91d7b",
   "metadata": {},
   "outputs": [
    {
     "name": "stdout",
     "output_type": "stream",
     "text": [
      "Accuracy: 0.5\n",
      "Classification Report:\n",
      "               precision    recall  f1-score   support\n",
      "\n",
      "           0       0.43      0.33      0.38         9\n",
      "           1       0.54      0.64      0.58        11\n",
      "\n",
      "    accuracy                           0.50        20\n",
      "   macro avg       0.48      0.48      0.48        20\n",
      "weighted avg       0.49      0.50      0.49        20\n",
      "\n"
     ]
    }
   ],
   "source": [
    "from sklearn.model_selection import train_test_split\n",
    "from sklearn.ensemble import RandomForestClassifier\n",
    "from sklearn.metrics import accuracy_score, classification_report\n",
    "n=len(subreddit_data)\n",
    "random_rows = stock_data['label'].sample(n, random_state=42)\n",
    "# Prepare features and labels\n",
    "X = subreddit_data[[\"title_sentiment\", \"body_sentiment\", \"score\", \"comments_count\"]]\n",
    "\n",
    "y = stock_data['label'].tail(n)\n",
    "\n",
    "\n",
    "# # Train-test split\n",
    "X_train, X_test, y_train, y_test = train_test_split(X, y, test_size=0.2, random_state=42)\n",
    "\n",
    "# # Train model\n",
    "model = RandomForestClassifier(n_estimators=100, class_weight='balanced', random_state=42)\n",
    "model.fit(X_train, y_train)\n",
    "\n",
    "# # Predictions and evaluation\n",
    "y_pred = model.predict(X_test)\n",
    "print(\"Accuracy:\", accuracy_score(y_test, y_pred))\n",
    "print(\"Classification Report:\\n\", classification_report(y_test, y_pred))\n"
   ]
  },
  {
   "cell_type": "code",
   "execution_count": 31,
   "id": "ed10dd52-799d-4a66-b721-6d6f1bfdea45",
   "metadata": {},
   "outputs": [
    {
     "data": {
      "image/png": "[encoded data removed]",
      "text/plain": [
       "<Figure size 640x480 with 2 Axes>"
      ]
     },
     "metadata": {},
     "output_type": "display_data"
    }
   ],
   "source": [
    "import matplotlib.pyplot as plt\n",
    "import seaborn as sns\n",
    "\n",
    "from sklearn.metrics import confusion_matrix, ConfusionMatrixDisplay\n",
    "# Confusion Matrix\n",
    "conf_matrix = confusion_matrix(y_test, y_pred)\n",
    "sns.heatmap(conf_matrix, annot=True, fmt='d', cmap='Blues', xticklabels=['Negative', 'Positive'], yticklabels=['Negative', 'Positive'])\n",
    "plt.xlabel('Predicted')\n",
    "plt.ylabel('Actual')\n",
    "plt.title('Confusion Matrix')\n",
    "plt.show()\n"
   ]
  }
 ],
 "metadata": {
  "kernelspec": {
   "display_name": "Python 3 (ipykernel)",
   "language": "python",
   "name": "python3"
  },
  "language_info": {
   "codemirror_mode": {
    "name": "ipython",
    "version": 3
   },
   "file_extension": ".py",
   "mimetype": "text/x-python",
   "name": "python",
   "nbconvert_exporter": "python",
   "pygments_lexer": "ipython3",
   "version": "3.12.3"
  }
 },
 "nbformat": 4,
 "nbformat_minor": 5
}
